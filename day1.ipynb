{
 "cells": [
  {
   "cell_type": "code",
   "execution_count": 1,
   "id": "1e14c5ea",
   "metadata": {},
   "outputs": [],
   "source": [
    "def get_input(name):\n",
    "    inp = []\n",
    "    for lines in open(name):\n",
    "        inp.append(lines.strip())\n",
    "    return inp"
   ]
  },
  {
   "cell_type": "code",
   "execution_count": 27,
   "id": "15f5893e",
   "metadata": {},
   "outputs": [],
   "source": [
    "inp = get_input(\"temp\")"
   ]
  },
  {
   "cell_type": "code",
   "execution_count": 12,
   "id": "e7e13c14",
   "metadata": {},
   "outputs": [],
   "source": [
    "inp = \"\""
   ]
  },
  {
   "cell_type": "code",
   "execution_count": 30,
   "id": "153aeb9b",
   "metadata": {},
   "outputs": [],
   "source": [
    "tot = 0\n",
    "last = 123141\n",
    "vals = []\n",
    "for i in range(0, len(inp)-2):\n",
    "    vals.append(int(inp[i]) + int(inp[i+1]) + int(inp[i+2]))"
   ]
  },
  {
   "cell_type": "code",
   "execution_count": 39,
   "id": "93a5009b",
   "metadata": {},
   "outputs": [],
   "source": [
    "last =129381092389\n",
    "tot1 = 0\n",
    "for i in vals:\n",
    "    if i > last:\n",
    "        tot1 += 1\n",
    "    last = i"
   ]
  },
  {
   "cell_type": "code",
   "execution_count": 40,
   "id": "fbdc8211",
   "metadata": {},
   "outputs": [
    {
     "name": "stdout",
     "output_type": "stream",
     "text": [
      "1262\n"
     ]
    }
   ],
   "source": [
    "print(tot1)"
   ]
  },
  {
   "cell_type": "code",
   "execution_count": null,
   "id": "770b5477",
   "metadata": {},
   "outputs": [],
   "source": []
  }
 ],
 "metadata": {
  "kernelspec": {
   "display_name": "Python 3.8.12 64-bit ('nlp': conda)",
   "language": "python",
   "name": "python3812jvsc74a57bd08bf561cb34d7e929b1f03acb25e1918615327cb2d53b2cded984d192d7d8ef65"
  },
  "language_info": {
   "codemirror_mode": {
    "name": "ipython",
    "version": 3
   },
   "file_extension": ".py",
   "mimetype": "text/x-python",
   "name": "python",
   "nbconvert_exporter": "python",
   "pygments_lexer": "ipython3",
   "version": "3.8.12"
  }
 },
 "nbformat": 4,
 "nbformat_minor": 5
}
